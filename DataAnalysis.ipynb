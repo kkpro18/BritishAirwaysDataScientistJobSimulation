{
 "cells": [
  {
   "metadata": {},
   "cell_type": "markdown",
   "source": "## Pre-Process the data",
   "id": "ecbd3d1a27564e1e"
  },
  {
   "metadata": {
    "ExecuteTime": {
     "end_time": "2024-05-05T02:09:27.666128Z",
     "start_time": "2024-05-05T02:09:27.553534Z"
    }
   },
   "cell_type": "code",
   "source": [
    "import pandas as pd\n",
    "\n",
    "reviews = pd.read_csv('data/BA_reviews.csv')"
   ],
   "id": "87a46d10222481b7",
   "execution_count": 27,
   "outputs": []
  },
  {
   "metadata": {
    "ExecuteTime": {
     "end_time": "2024-05-05T02:09:27.889621Z",
     "start_time": "2024-05-05T02:09:27.840039Z"
    }
   },
   "cell_type": "code",
   "source": "reviews.head()",
   "id": "7df54cda57806741",
   "outputs": [
    {
     "data": {
      "text/plain": [
       "   Unnamed: 0                                            reviews\n",
       "0           0  ✅ Trip Verified |  Manchester to Copenhagen vi...\n",
       "1           1  ✅ Trip Verified |  I have never seen such disr...\n",
       "2           2  ✅ Trip Verified |  Paid for a 14 hour long fli...\n",
       "3           3  ✅ Trip Verified |  Very inconsiderate PA annou...\n",
       "4           4  ✅ Trip Verified |  Absolutely terrible, lost m..."
      ],
      "text/html": [
       "<div>\n",
       "<style scoped>\n",
       "    .dataframe tbody tr th:only-of-type {\n",
       "        vertical-align: middle;\n",
       "    }\n",
       "\n",
       "    .dataframe tbody tr th {\n",
       "        vertical-align: top;\n",
       "    }\n",
       "\n",
       "    .dataframe thead th {\n",
       "        text-align: right;\n",
       "    }\n",
       "</style>\n",
       "<table border=\"1\" class=\"dataframe\">\n",
       "  <thead>\n",
       "    <tr style=\"text-align: right;\">\n",
       "      <th></th>\n",
       "      <th>Unnamed: 0</th>\n",
       "      <th>reviews</th>\n",
       "    </tr>\n",
       "  </thead>\n",
       "  <tbody>\n",
       "    <tr>\n",
       "      <th>0</th>\n",
       "      <td>0</td>\n",
       "      <td>✅ Trip Verified |  Manchester to Copenhagen vi...</td>\n",
       "    </tr>\n",
       "    <tr>\n",
       "      <th>1</th>\n",
       "      <td>1</td>\n",
       "      <td>✅ Trip Verified |  I have never seen such disr...</td>\n",
       "    </tr>\n",
       "    <tr>\n",
       "      <th>2</th>\n",
       "      <td>2</td>\n",
       "      <td>✅ Trip Verified |  Paid for a 14 hour long fli...</td>\n",
       "    </tr>\n",
       "    <tr>\n",
       "      <th>3</th>\n",
       "      <td>3</td>\n",
       "      <td>✅ Trip Verified |  Very inconsiderate PA annou...</td>\n",
       "    </tr>\n",
       "    <tr>\n",
       "      <th>4</th>\n",
       "      <td>4</td>\n",
       "      <td>✅ Trip Verified |  Absolutely terrible, lost m...</td>\n",
       "    </tr>\n",
       "  </tbody>\n",
       "</table>\n",
       "</div>"
      ]
     },
     "execution_count": 28,
     "metadata": {},
     "output_type": "execute_result"
    }
   ],
   "execution_count": 28
  },
  {
   "metadata": {
    "ExecuteTime": {
     "end_time": "2024-05-05T02:09:27.957874Z",
     "start_time": "2024-05-05T02:09:27.925611Z"
    }
   },
   "cell_type": "code",
   "source": "reviews.columns = ['Rating', 'Review']",
   "id": "53c292ef8c8db59a",
   "execution_count": 29,
   "outputs": []
  },
  {
   "metadata": {
    "ExecuteTime": {
     "end_time": "2024-05-05T02:09:28.117683Z",
     "start_time": "2024-05-05T02:09:28.065826Z"
    }
   },
   "cell_type": "code",
   "source": "reviews.head()",
   "id": "15d966b4a04579c3",
   "outputs": [
    {
     "data": {
      "text/plain": [
       "   Rating                                             Review\n",
       "0       0  ✅ Trip Verified |  Manchester to Copenhagen vi...\n",
       "1       1  ✅ Trip Verified |  I have never seen such disr...\n",
       "2       2  ✅ Trip Verified |  Paid for a 14 hour long fli...\n",
       "3       3  ✅ Trip Verified |  Very inconsiderate PA annou...\n",
       "4       4  ✅ Trip Verified |  Absolutely terrible, lost m..."
      ],
      "text/html": [
       "<div>\n",
       "<style scoped>\n",
       "    .dataframe tbody tr th:only-of-type {\n",
       "        vertical-align: middle;\n",
       "    }\n",
       "\n",
       "    .dataframe tbody tr th {\n",
       "        vertical-align: top;\n",
       "    }\n",
       "\n",
       "    .dataframe thead th {\n",
       "        text-align: right;\n",
       "    }\n",
       "</style>\n",
       "<table border=\"1\" class=\"dataframe\">\n",
       "  <thead>\n",
       "    <tr style=\"text-align: right;\">\n",
       "      <th></th>\n",
       "      <th>Rating</th>\n",
       "      <th>Review</th>\n",
       "    </tr>\n",
       "  </thead>\n",
       "  <tbody>\n",
       "    <tr>\n",
       "      <th>0</th>\n",
       "      <td>0</td>\n",
       "      <td>✅ Trip Verified |  Manchester to Copenhagen vi...</td>\n",
       "    </tr>\n",
       "    <tr>\n",
       "      <th>1</th>\n",
       "      <td>1</td>\n",
       "      <td>✅ Trip Verified |  I have never seen such disr...</td>\n",
       "    </tr>\n",
       "    <tr>\n",
       "      <th>2</th>\n",
       "      <td>2</td>\n",
       "      <td>✅ Trip Verified |  Paid for a 14 hour long fli...</td>\n",
       "    </tr>\n",
       "    <tr>\n",
       "      <th>3</th>\n",
       "      <td>3</td>\n",
       "      <td>✅ Trip Verified |  Very inconsiderate PA annou...</td>\n",
       "    </tr>\n",
       "    <tr>\n",
       "      <th>4</th>\n",
       "      <td>4</td>\n",
       "      <td>✅ Trip Verified |  Absolutely terrible, lost m...</td>\n",
       "    </tr>\n",
       "  </tbody>\n",
       "</table>\n",
       "</div>"
      ]
     },
     "execution_count": 30,
     "metadata": {},
     "output_type": "execute_result"
    }
   ],
   "execution_count": 30
  },
  {
   "metadata": {
    "ExecuteTime": {
     "end_time": "2024-05-05T02:09:28.352973Z",
     "start_time": "2024-05-05T02:09:28.311590Z"
    }
   },
   "cell_type": "code",
   "source": "reviews['Review'] = reviews['Review'].apply(lambda x: x.replace(\"✅ Trip Verified |\",\"\")) ",
   "id": "7d6b75cc046cad20",
   "outputs": [],
   "execution_count": 31
  },
  {
   "metadata": {
    "ExecuteTime": {
     "end_time": "2024-05-05T02:09:28.562756Z",
     "start_time": "2024-05-05T02:09:28.520898Z"
    }
   },
   "cell_type": "code",
   "source": "reviews.head()",
   "id": "33b32e9369bee2a2",
   "outputs": [
    {
     "data": {
      "text/plain": [
       "   Rating                                             Review\n",
       "0       0    Manchester to Copenhagen via London on 30th ...\n",
       "1       1    I have never seen such disrespect to a custo...\n",
       "2       2    Paid for a 14 hour long flight ticket which ...\n",
       "3       3    Very inconsiderate PA announcements were mad...\n",
       "4       4    Absolutely terrible, lost my luggage on both..."
      ],
      "text/html": [
       "<div>\n",
       "<style scoped>\n",
       "    .dataframe tbody tr th:only-of-type {\n",
       "        vertical-align: middle;\n",
       "    }\n",
       "\n",
       "    .dataframe tbody tr th {\n",
       "        vertical-align: top;\n",
       "    }\n",
       "\n",
       "    .dataframe thead th {\n",
       "        text-align: right;\n",
       "    }\n",
       "</style>\n",
       "<table border=\"1\" class=\"dataframe\">\n",
       "  <thead>\n",
       "    <tr style=\"text-align: right;\">\n",
       "      <th></th>\n",
       "      <th>Rating</th>\n",
       "      <th>Review</th>\n",
       "    </tr>\n",
       "  </thead>\n",
       "  <tbody>\n",
       "    <tr>\n",
       "      <th>0</th>\n",
       "      <td>0</td>\n",
       "      <td>Manchester to Copenhagen via London on 30th ...</td>\n",
       "    </tr>\n",
       "    <tr>\n",
       "      <th>1</th>\n",
       "      <td>1</td>\n",
       "      <td>I have never seen such disrespect to a custo...</td>\n",
       "    </tr>\n",
       "    <tr>\n",
       "      <th>2</th>\n",
       "      <td>2</td>\n",
       "      <td>Paid for a 14 hour long flight ticket which ...</td>\n",
       "    </tr>\n",
       "    <tr>\n",
       "      <th>3</th>\n",
       "      <td>3</td>\n",
       "      <td>Very inconsiderate PA announcements were mad...</td>\n",
       "    </tr>\n",
       "    <tr>\n",
       "      <th>4</th>\n",
       "      <td>4</td>\n",
       "      <td>Absolutely terrible, lost my luggage on both...</td>\n",
       "    </tr>\n",
       "  </tbody>\n",
       "</table>\n",
       "</div>"
      ]
     },
     "execution_count": 32,
     "metadata": {},
     "output_type": "execute_result"
    }
   ],
   "execution_count": 32
  },
  {
   "metadata": {
    "ExecuteTime": {
     "end_time": "2024-05-05T02:09:28.984367Z",
     "start_time": "2024-05-05T02:09:28.955463Z"
    }
   },
   "cell_type": "code",
   "source": "reviews['Review'] = reviews['Review'].apply(lambda x: x.replace(\"Not Verified |\",\"\")) ",
   "id": "f9b82d206e7d5b9d",
   "outputs": [],
   "execution_count": 33
  },
  {
   "metadata": {
    "ExecuteTime": {
     "end_time": "2024-05-05T02:09:29.678597Z",
     "start_time": "2024-05-05T02:09:29.643089Z"
    }
   },
   "cell_type": "code",
   "source": "reviews.head()",
   "id": "7d93e842d9777de5",
   "outputs": [
    {
     "data": {
      "text/plain": [
       "   Rating                                             Review\n",
       "0       0    Manchester to Copenhagen via London on 30th ...\n",
       "1       1    I have never seen such disrespect to a custo...\n",
       "2       2    Paid for a 14 hour long flight ticket which ...\n",
       "3       3    Very inconsiderate PA announcements were mad...\n",
       "4       4    Absolutely terrible, lost my luggage on both..."
      ],
      "text/html": [
       "<div>\n",
       "<style scoped>\n",
       "    .dataframe tbody tr th:only-of-type {\n",
       "        vertical-align: middle;\n",
       "    }\n",
       "\n",
       "    .dataframe tbody tr th {\n",
       "        vertical-align: top;\n",
       "    }\n",
       "\n",
       "    .dataframe thead th {\n",
       "        text-align: right;\n",
       "    }\n",
       "</style>\n",
       "<table border=\"1\" class=\"dataframe\">\n",
       "  <thead>\n",
       "    <tr style=\"text-align: right;\">\n",
       "      <th></th>\n",
       "      <th>Rating</th>\n",
       "      <th>Review</th>\n",
       "    </tr>\n",
       "  </thead>\n",
       "  <tbody>\n",
       "    <tr>\n",
       "      <th>0</th>\n",
       "      <td>0</td>\n",
       "      <td>Manchester to Copenhagen via London on 30th ...</td>\n",
       "    </tr>\n",
       "    <tr>\n",
       "      <th>1</th>\n",
       "      <td>1</td>\n",
       "      <td>I have never seen such disrespect to a custo...</td>\n",
       "    </tr>\n",
       "    <tr>\n",
       "      <th>2</th>\n",
       "      <td>2</td>\n",
       "      <td>Paid for a 14 hour long flight ticket which ...</td>\n",
       "    </tr>\n",
       "    <tr>\n",
       "      <th>3</th>\n",
       "      <td>3</td>\n",
       "      <td>Very inconsiderate PA announcements were mad...</td>\n",
       "    </tr>\n",
       "    <tr>\n",
       "      <th>4</th>\n",
       "      <td>4</td>\n",
       "      <td>Absolutely terrible, lost my luggage on both...</td>\n",
       "    </tr>\n",
       "  </tbody>\n",
       "</table>\n",
       "</div>"
      ]
     },
     "execution_count": 34,
     "metadata": {},
     "output_type": "execute_result"
    }
   ],
   "execution_count": 34
  },
  {
   "metadata": {
    "ExecuteTime": {
     "end_time": "2024-05-05T02:14:36.622611Z",
     "start_time": "2024-05-05T02:14:36.583375Z"
    }
   },
   "cell_type": "code",
   "source": "reviews.Review.unique().shape",
   "id": "1f2ed7a001533fd0",
   "outputs": [
    {
     "data": {
      "text/plain": [
       "(1000,)"
      ]
     },
     "execution_count": 37,
     "metadata": {},
     "output_type": "execute_result"
    }
   ],
   "execution_count": 37
  },
  {
   "metadata": {},
   "cell_type": "markdown",
   "source": "1000 Unique Reviews",
   "id": "ac61a964df3c6b9d"
  },
  {
   "metadata": {},
   "cell_type": "markdown",
   "source": [
    "## Topic Modelling\n",
    "Proceed on the basis that data is cleaned and pre-processed\n",
    "\n",
    "Reference:\n",
    "https://ourcodingclub.github.io/tutorials/topic-modelling-python/"
   ],
   "id": "530fd93ddc4e3f64"
  },
  {
   "metadata": {
    "ExecuteTime": {
     "end_time": "2024-05-05T02:55:51.576412Z",
     "start_time": "2024-05-05T02:55:45.193035Z"
    }
   },
   "cell_type": "code",
   "source": [
    "import sklearn\n",
    "from sklearn.feature_extraction.text import CountVectorizer\n",
    "vectorizer = CountVectorizer(max_df=0.9, min_df=25, token_pattern='\\w+|\\$[\\d\\.]+|\\S+') # transformer to vector form\n",
    "# max df discards words that are in 90% of reviews - too common\n",
    "# min df ensures that words in less than 25 reviews will be discarded - no correlation too minor\n",
    "tf = vectorizer.fit_transform(reviews.toarray()) # applies transformer to our data\n",
    "tf_feature_names = vectorizer.get_feature_names() # provides insight as to what word each column in matrix represent"
   ],
   "id": "72abcd6d872db14",
   "outputs": [
    {
     "ename": "AttributeError",
     "evalue": "'DataFrame' object has no attribute 'toarray'",
     "output_type": "error",
     "traceback": [
      "\u001B[1;31m---------------------------------------------------------------------------\u001B[0m",
      "\u001B[1;31mAttributeError\u001B[0m                            Traceback (most recent call last)",
      "\u001B[1;32m~\\AppData\\Local\\Temp\\ipykernel_6756\\112350815.py\u001B[0m in \u001B[0;36m?\u001B[1;34m()\u001B[0m\n\u001B[0;32m      2\u001B[0m \u001B[1;32mfrom\u001B[0m \u001B[0msklearn\u001B[0m\u001B[1;33m.\u001B[0m\u001B[0mfeature_extraction\u001B[0m\u001B[1;33m.\u001B[0m\u001B[0mtext\u001B[0m \u001B[1;32mimport\u001B[0m \u001B[0mCountVectorizer\u001B[0m\u001B[1;33m\u001B[0m\u001B[1;33m\u001B[0m\u001B[0m\n\u001B[0;32m      3\u001B[0m \u001B[0mvectorizer\u001B[0m \u001B[1;33m=\u001B[0m \u001B[0mCountVectorizer\u001B[0m\u001B[1;33m(\u001B[0m\u001B[0mmax_df\u001B[0m\u001B[1;33m=\u001B[0m\u001B[1;36m0.9\u001B[0m\u001B[1;33m,\u001B[0m \u001B[0mmin_df\u001B[0m\u001B[1;33m=\u001B[0m\u001B[1;36m25\u001B[0m\u001B[1;33m,\u001B[0m \u001B[0mtoken_pattern\u001B[0m\u001B[1;33m=\u001B[0m\u001B[1;34m'\\w+|\\$[\\d\\.]+|\\S+'\u001B[0m\u001B[1;33m)\u001B[0m \u001B[1;31m# transformer to vector form\u001B[0m\u001B[1;33m\u001B[0m\u001B[1;33m\u001B[0m\u001B[0m\n\u001B[0;32m      4\u001B[0m \u001B[1;31m# max df discards words that are in 90% of reviews - too common\u001B[0m\u001B[1;33m\u001B[0m\u001B[1;33m\u001B[0m\u001B[0m\n\u001B[0;32m      5\u001B[0m \u001B[1;31m# min df ensures that words in less than 25 reviews will be discarded - no correlation too minor\u001B[0m\u001B[1;33m\u001B[0m\u001B[1;33m\u001B[0m\u001B[0m\n\u001B[1;32m----> 6\u001B[1;33m \u001B[0mtf\u001B[0m \u001B[1;33m=\u001B[0m \u001B[0mvectorizer\u001B[0m\u001B[1;33m.\u001B[0m\u001B[0mfit_transform\u001B[0m\u001B[1;33m(\u001B[0m\u001B[0mreviews\u001B[0m\u001B[1;33m.\u001B[0m\u001B[0mtoarray\u001B[0m\u001B[1;33m(\u001B[0m\u001B[1;33m)\u001B[0m\u001B[1;33m)\u001B[0m \u001B[1;31m# applies transformer to our data\u001B[0m\u001B[1;33m\u001B[0m\u001B[1;33m\u001B[0m\u001B[0m\n\u001B[0m\u001B[0;32m      7\u001B[0m \u001B[0mtf_feature_names\u001B[0m \u001B[1;33m=\u001B[0m \u001B[0mvectorizer\u001B[0m\u001B[1;33m.\u001B[0m\u001B[0mget_feature_names\u001B[0m\u001B[1;33m(\u001B[0m\u001B[1;33m)\u001B[0m \u001B[1;31m# provides insight as to what word each column in matrix represent\u001B[0m\u001B[1;33m\u001B[0m\u001B[1;33m\u001B[0m\u001B[0m\n",
      "\u001B[1;32m~\\anaconda3\\envs\\DataScience\\Lib\\site-packages\\pandas\\core\\generic.py\u001B[0m in \u001B[0;36m?\u001B[1;34m(self, name)\u001B[0m\n\u001B[0;32m   6292\u001B[0m             \u001B[1;32mand\u001B[0m \u001B[0mname\u001B[0m \u001B[1;32mnot\u001B[0m \u001B[1;32min\u001B[0m \u001B[0mself\u001B[0m\u001B[1;33m.\u001B[0m\u001B[0m_accessors\u001B[0m\u001B[1;33m\u001B[0m\u001B[1;33m\u001B[0m\u001B[0m\n\u001B[0;32m   6293\u001B[0m             \u001B[1;32mand\u001B[0m \u001B[0mself\u001B[0m\u001B[1;33m.\u001B[0m\u001B[0m_info_axis\u001B[0m\u001B[1;33m.\u001B[0m\u001B[0m_can_hold_identifiers_and_holds_name\u001B[0m\u001B[1;33m(\u001B[0m\u001B[0mname\u001B[0m\u001B[1;33m)\u001B[0m\u001B[1;33m\u001B[0m\u001B[1;33m\u001B[0m\u001B[0m\n\u001B[0;32m   6294\u001B[0m         ):\n\u001B[0;32m   6295\u001B[0m             \u001B[1;32mreturn\u001B[0m \u001B[0mself\u001B[0m\u001B[1;33m[\u001B[0m\u001B[0mname\u001B[0m\u001B[1;33m]\u001B[0m\u001B[1;33m\u001B[0m\u001B[1;33m\u001B[0m\u001B[0m\n\u001B[1;32m-> 6296\u001B[1;33m         \u001B[1;32mreturn\u001B[0m \u001B[0mobject\u001B[0m\u001B[1;33m.\u001B[0m\u001B[0m__getattribute__\u001B[0m\u001B[1;33m(\u001B[0m\u001B[0mself\u001B[0m\u001B[1;33m,\u001B[0m \u001B[0mname\u001B[0m\u001B[1;33m)\u001B[0m\u001B[1;33m\u001B[0m\u001B[1;33m\u001B[0m\u001B[0m\n\u001B[0m",
      "\u001B[1;31mAttributeError\u001B[0m: 'DataFrame' object has no attribute 'toarray'"
     ]
    }
   ],
   "execution_count": 38
  },
  {
   "metadata": {},
   "cell_type": "code",
   "outputs": [],
   "execution_count": null,
   "source": [
    "tf_feature_names\n",
    "# word frequency : review"
   ],
   "id": "a7ba01954c9cbccc"
  },
  {
   "metadata": {},
   "cell_type": "markdown",
   "source": "Let's now create the model",
   "id": "a1fb98dcfa52b82f"
  },
  {
   "metadata": {},
   "cell_type": "code",
   "outputs": [],
   "execution_count": null,
   "source": [
    "from sklearn.decomposition import LatentDirichletAllocation\n",
    "\n",
    "number_of_topics = 10\n",
    "model = LatentDirichletAllocation(n_components=number_of_topics, random_state=18)\n",
    "model.fit(tf)"
   ],
   "id": "4a3b1f8ef77d30"
  },
  {
   "metadata": {},
   "cell_type": "code",
   "outputs": [],
   "execution_count": null,
   "source": "",
   "id": "8d21a9f55c16d225"
  },
  {
   "metadata": {},
   "cell_type": "markdown",
   "source": [
    "## Sentiment Analysis\n",
    "Reference:\n",
    "https://realpython.com/python-nltk-sentiment-analysis/"
   ],
   "id": "1a171cd6bc1b332b"
  },
  {
   "metadata": {},
   "cell_type": "code",
   "outputs": [],
   "execution_count": null,
   "source": "# Write Code Here",
   "id": "66b2e87962521b5c"
  },
  {
   "metadata": {},
   "cell_type": "markdown",
   "source": [
    "## Word Cloud\n",
    "Reference:\n",
    "https://www.projectpro.io/recipes/create-word-cloud-python"
   ],
   "id": "d79494ab87c490f2"
  },
  {
   "metadata": {},
   "cell_type": "code",
   "outputs": [],
   "execution_count": null,
   "source": "# Write Code Here",
   "id": "c42cf66be7a75df"
  }
 ],
 "metadata": {
  "kernelspec": {
   "display_name": "Python 3",
   "language": "python",
   "name": "python3"
  },
  "language_info": {
   "codemirror_mode": {
    "name": "ipython",
    "version": 2
   },
   "file_extension": ".py",
   "mimetype": "text/x-python",
   "name": "python",
   "nbconvert_exporter": "python",
   "pygments_lexer": "ipython2",
   "version": "2.7.6"
  }
 },
 "nbformat": 4,
 "nbformat_minor": 5
}
